{
 "cells": [
  {
   "cell_type": "markdown",
   "metadata": {},
   "source": [
    "\n",
    "\n",
    "Chapter 1: Exploring the GDALDataset class\n",
    "===================================="
   ]
  },
  {
   "cell_type": "markdown",
   "metadata": {},
   "source": [
    "## What is GDAL?\n",
    "\n",
    "\n",
    "Some class methods include:\n",
    "\n",
    "- `GetDriver`\n",
    "- `GetRasterBand`\n",
    "- `GetGeoTransform`\n",
    "- `GetProjection`\n",
    "- `GetSubDatasets`\n",
    "\n",
    "    \n",
    "Another suite of class methods allow you to set class attributes. These include:\n",
    "\n",
    "- `SetGeoTransform`\n",
    "- `SetProjection`\n",
    "\n",
    "which allow you to modify the geographic projection and location of the image."
   ]
  },
  {
   "cell_type": "markdown",
   "metadata": {},
   "source": [
    "### Import module"
   ]
  },
  {
   "cell_type": "code",
   "execution_count": 1,
   "metadata": {},
   "outputs": [
    {
     "name": "stdout",
     "output_type": "stream",
     "text": [
      "GDAL's version is: 2.3.3\n",
      "<module 'osgeo.gdal' from 'C:\\\\Users\\\\Nilay Nishant\\\\AppData\\\\Local\\\\Continuum\\\\anaconda3\\\\lib\\\\site-packages\\\\osgeo\\\\gdal.py'>\n"
     ]
    }
   ],
   "source": [
    "# Import the Python 3 print function\n",
    "from __future__ import print_function\n",
    "\n",
    "# Import the \"gdal\" submodule from within the \"osgeo\" module\n",
    "from osgeo import gdal\n",
    "\n",
    "# We can check which version we're running by printing the \"__version__\" variable\n",
    "print(\"GDAL's version is: \" + gdal.__version__)\n",
    "print(gdal)"
   ]
  },
  {
   "cell_type": "markdown",
   "metadata": {},
   "source": [
    "\n",
    "### Examples\n",
    "#### Open an image"
   ]
  },
  {
   "cell_type": "code",
   "execution_count": 3,
   "metadata": {},
   "outputs": [
    {
     "name": "stdout",
     "output_type": "stream",
     "text": [
      "<osgeo.gdal.Dataset; proxy of <Swig Object of type 'GDALDatasetShadow *' at 0x0000027BC6B2BF90> >\n"
     ]
    }
   ],
   "source": [
    "# Open a GDAL dataset\n",
    "dataset = gdal.Open('../../example/LE70220491999322EDC01_stack.gtif', gdal.GA_ReadOnly)\n",
    "\n",
    "print(dataset)"
   ]
  },
  {
   "cell_type": "markdown",
   "metadata": {},
   "source": [
    "\n",
    "#### Get Image attributes"
   ]
  },
  {
   "cell_type": "code",
   "execution_count": 4,
   "metadata": {},
   "outputs": [
    {
     "name": "stdout",
     "output_type": "stream",
     "text": [
      "Number of bands in image: 8\n",
      "\n",
      "Image size is: 250 rows x 250 columns\n",
      "\n",
      "Raster description: ../../example/LE70220491999322EDC01_stack.gtif\n",
      "Raster metadata:\n",
      "{'AREA_OR_POINT': 'Area', 'Band_1': 'band 1 reflectance', 'Band_2': 'band 2 reflectance', 'Band_3': 'band 3 reflectance', 'Band_4': 'band 4 reflectance', 'Band_5': 'band 5 reflectance', 'Band_6': 'band 7 reflectance', 'Band_7': 'band 6 temperature', 'Band_8': 'Band 8'}\n",
      "\n",
      "\n",
      "Raster driver: GTiff\n",
      "\n",
      "Image projection:\n",
      "PROJCS[\"WGS 84 / UTM zone 15N\",GEOGCS[\"WGS 84\",DATUM[\"WGS_1984\",SPHEROID[\"WGS 84\",6378137,298.257223563,AUTHORITY[\"EPSG\",\"7030\"]],AUTHORITY[\"EPSG\",\"6326\"]],PRIMEM[\"Greenwich\",0,AUTHORITY[\"EPSG\",\"8901\"]],UNIT[\"degree\",0.0174532925199433,AUTHORITY[\"EPSG\",\"9122\"]],AUTHORITY[\"EPSG\",\"4326\"]],PROJECTION[\"Transverse_Mercator\"],PARAMETER[\"latitude_of_origin\",0],PARAMETER[\"central_meridian\",-93],PARAMETER[\"scale_factor\",0.9996],PARAMETER[\"false_easting\",500000],PARAMETER[\"false_northing\",0],UNIT[\"metre\",1,AUTHORITY[\"EPSG\",\"9001\"]],AXIS[\"Easting\",EAST],AXIS[\"Northing\",NORTH],AUTHORITY[\"EPSG\",\"32615\"]]\n",
      "\n",
      "Image geo-transform: (462405.0, 30.0, 0.0, 1741815.0, 0.0, -30.0)\n",
      "\n"
     ]
    }
   ],
   "source": [
    "# How many bands does this image have?\n",
    "num_bands = dataset.RasterCount\n",
    "print('Number of bands in image: {n}\\n'.format(n=num_bands))\n",
    "\n",
    "# How many rows and columns?\n",
    "rows = dataset.RasterYSize\n",
    "cols = dataset.RasterXSize\n",
    "print('Image size is: {r} rows x {c} columns\\n'.format(r=rows, c=cols))\n",
    "\n",
    "# Does the raster have a description or metadata?\n",
    "desc = dataset.GetDescription()\n",
    "metadata = dataset.GetMetadata()\n",
    "\n",
    "print('Raster description: {desc}'.format(desc=desc))\n",
    "print('Raster metadata:')\n",
    "print(metadata)\n",
    "print('\\n')\n",
    "\n",
    "# What driver was used to open the raster?\n",
    "driver = dataset.GetDriver()\n",
    "print('Raster driver: {d}\\n'.format(d=driver.ShortName))\n",
    "\n",
    "# What is the raster's projection?\n",
    "proj = dataset.GetProjection()\n",
    "print('Image projection:')\n",
    "print(proj + '\\n')\n",
    "\n",
    "# What is the raster's \"geo-transform\"\n",
    "gt = dataset.GetGeoTransform()\n",
    "print('Image geo-transform: {gt}\\n'.format(gt=gt))"
   ]
  },
  {
   "cell_type": "markdown",
   "metadata": {},
   "source": [
    "#### Read Image raster bands\n"
   ]
  },
  {
   "cell_type": "code",
   "execution_count": 6,
   "metadata": {},
   "outputs": [
    {
     "name": "stdout",
     "output_type": "stream",
     "text": [
      "<osgeo.gdal.Band; proxy of <Swig Object of type 'GDALRasterBandShadow *' at 0x0000027BCDF569C0> >\n"
     ]
    }
   ],
   "source": [
    "# Open the blue band in our image\n",
    "blue = dataset.GetRasterBand(1)\n",
    "\n",
    "print(blue)"
   ]
  },
  {
   "cell_type": "markdown",
   "metadata": {},
   "source": [
    "### Raster Stats"
   ]
  },
  {
   "cell_type": "code",
   "execution_count": 16,
   "metadata": {},
   "outputs": [
    {
     "name": "stdout",
     "output_type": "stream",
     "text": [
      "Band range: 1810.0 - 198.0\n",
      "Band mean, stddev: 439.015984, 139.7168287663\n",
      "\n"
     ]
    }
   ],
   "source": [
    "band_max, band_min, band_mean, band_stddev = blue.GetStatistics(0, 1)\n",
    "print('Band range: {minimum} - {maximum}'.format(maximum=band_max,\n",
    "                                                 minimum=band_min))\n",
    "print('Band mean, stddev: {m}, {s}\\n'.format(m=band_mean, s=band_stddev))\n"
   ]
  },
  {
   "cell_type": "markdown",
   "metadata": {},
   "source": [
    "#### From GDAL to Numpy"
   ]
  },
  {
   "cell_type": "code",
   "execution_count": 17,
   "metadata": {},
   "outputs": [
    {
     "name": "stdout",
     "output_type": "stream",
     "text": [
      "1.14.5\n",
      "1.14.5\n"
     ]
    }
   ],
   "source": [
    "# No alias\n",
    "import numpy\n",
    "print(numpy.__version__)\n",
    "\n",
    "# Alias or rename to \"np\" -- a very common practice\n",
    "import numpy as np\n",
    "print(np.__version__)"
   ]
  },
  {
   "cell_type": "markdown",
   "metadata": {},
   "source": [
    "In order to read our band into one of these wonderful `np.array` objects, we will use the `ReadAsArray` method from our `GDALRasterBand` object:"
   ]
  },
  {
   "cell_type": "code",
   "execution_count": 11,
   "metadata": {},
   "outputs": [
    {
     "name": "stdout",
     "output_type": "stream",
     "text": [
      "Help on method ReadAsArray in module osgeo.gdal:\n",
      "\n",
      "ReadAsArray(xoff=0, yoff=0, win_xsize=None, win_ysize=None, buf_xsize=None, buf_ysize=None, buf_type=None, buf_obj=None, resample_alg=0, callback=None, callback_data=None) method of osgeo.gdal.Band instance\n",
      "    Reading a chunk of a GDAL band into a numpy array. The optional (buf_xsize,buf_ysize,buf_type)\n",
      "    parameters should generally not be specified if buf_obj is specified. The array is returned\n",
      "\n"
     ]
    }
   ],
   "source": [
    "help(blue.ReadAsArray)"
   ]
  },
  {
   "cell_type": "markdown",
   "metadata": {},
   "source": [
    "### Read in the entire image:"
   ]
  },
  {
   "cell_type": "code",
   "execution_count": 12,
   "metadata": {},
   "outputs": [
    {
     "name": "stdout",
     "output_type": "stream",
     "text": [
      "[[569 526 569 ... 311 289 311]\n",
      " [568 589 568 ... 267 332 332]\n",
      " [546 525 589 ... 311 311 311]\n",
      " ...\n",
      " [499 543 478 ... 306 349 372]\n",
      " [520 520 543 ... 328 372 393]\n",
      " [543 564 543 ... 393 414 436]]\n",
      "\n",
      "Blue band mean is: 439.015984\n",
      "Size is: (250, 250)\n"
     ]
    }
   ],
   "source": [
    "blue_data = blue.ReadAsArray()\n",
    "\n",
    "print(blue_data)\n",
    "print()\n",
    "print('Blue band mean is: {m}'.format(m=blue_data.mean()))\n",
    "print('Size is: {sz}'.format(sz=blue_data.shape))"
   ]
  },
  {
   "cell_type": "markdown",
   "metadata": {},
   "source": [
    "Let's say we want to read all of our bands into one 3 dimensional (nrow x ncol x nband) dataset. We will begin by initializing a 3 dimensional array. Next, we will loop over all bands in our raster image dataset and read them into our newly allocated 3 dimensional array:"
   ]
  },
  {
   "cell_type": "code",
   "execution_count": 13,
   "metadata": {},
   "outputs": [
    {
     "name": "stdout",
     "output_type": "stream",
     "text": [
      "[[[ 569.  886.  758. ...  988. 2686.    0.]\n",
      "  [ 526.  886.  758. ...  988. 2686.    0.]\n",
      "  [ 569.  798.  776. ...  961. 2686.    0.]\n",
      "  ...\n",
      "  [ 311.  452.  356. ...  780. 2487.    0.]\n",
      "  [ 289.  452.  297. ...  647. 2487.    0.]\n",
      "  [ 311.  430.  337. ...  674. 2436.    0.]]\n",
      "\n",
      " [[ 568.  886.  815. ... 1014. 2686.    0.]\n",
      "  [ 589.  929.  853. ... 1014. 2686.    0.]\n",
      "  [ 568.  907.  910. ... 1014. 2686.    0.]\n",
      "  ...\n",
      "  [ 267.  430.  318. ...  674. 2487.    0.]\n",
      "  [ 332.  452.  337. ...  594. 2487.    0.]\n",
      "  [ 332.  452.  395. ...  727. 2487.    0.]]\n",
      "\n",
      " [[ 546.  864.  834. ...  988. 2637.    0.]\n",
      "  [ 525.  886.  834. ...  988. 2637.    0.]\n",
      "  [ 589.  928.  891. ...  988. 2637.    0.]\n",
      "  ...\n",
      "  [ 311.  452.  356. ...  727. 2487.    0.]\n",
      "  [ 311.  475.  395. ...  727. 2487.    0.]\n",
      "  [ 311.  475.  356. ...  753. 2487.    0.]]\n",
      "\n",
      " ...\n",
      "\n",
      " [[ 499.  851.  766. ... 1124. 2785.    0.]\n",
      "  [ 543.  829.  747. ... 1387. 2735.    0.]\n",
      "  [ 478.  829.  766. ... 1414. 2735.    0.]\n",
      "  ...\n",
      "  [ 306.  473.  336. ...  753. 2537.    0.]\n",
      "  [ 349.  494.  375. ...  753. 2537.    0.]\n",
      "  [ 372.  584.  454. ...  780. 2587.    0.]]\n",
      "\n",
      " [[ 520.  829.  766. ... 1283. 2785.    0.]\n",
      "  [ 520.  829.  786. ... 1387. 2785.    0.]\n",
      "  [ 543.  829.  805. ... 1361. 2785.    0.]\n",
      "  ...\n",
      "  [ 328.  473.  336. ...  568. 2587.    0.]\n",
      "  [ 372.  628.  433. ... 1045. 2587.    0.]\n",
      "  [ 393.  628.  512. ... 1018. 2587.    0.]]\n",
      "\n",
      " [[ 543.  829.  825. ... 1440. 2785.    0.]\n",
      "  [ 564.  851.  863. ... 1467. 2785.    0.]\n",
      "  [ 543.  829.  766. ... 1387. 2785.    0.]\n",
      "  ...\n",
      "  [ 393.  607.  551. ... 1230. 2686.    0.]\n",
      "  [ 414.  673.  572. ... 1440. 2686.    0.]\n",
      "  [ 436.  628.  493. ... 1045. 2637.    0.]]]\n",
      "float64\n"
     ]
    }
   ],
   "source": [
    "# Initialize a 3d array -- use the size properties of our image for portability!\n",
    "image = np.zeros((dataset.RasterYSize, dataset.RasterXSize, dataset.RasterCount))\n",
    "\n",
    "# Loop over all bands in dataset\n",
    "for b in range(dataset.RasterCount):\n",
    "    # Remember, GDAL index is on 1, but Python is on 0 -- so we add 1 for our GDAL calls\n",
    "    band = dataset.GetRasterBand(b + 1)\n",
    "    \n",
    "    # Read in the band's data into the third dimension of our array\n",
    "    image[:, :, b] = band.ReadAsArray()\n",
    "\n",
    "print(image)\n",
    "print(image.dtype)"
   ]
  }
 ],
 "metadata": {
  "kernelspec": {
   "display_name": "Python 3",
   "language": "python",
   "name": "python3"
  },
  "language_info": {
   "codemirror_mode": {
    "name": "ipython",
    "version": 3
   },
   "file_extension": ".py",
   "mimetype": "text/x-python",
   "name": "python",
   "nbconvert_exporter": "python",
   "pygments_lexer": "ipython3",
   "version": "3.6.5"
  }
 },
 "nbformat": 4,
 "nbformat_minor": 1
}
