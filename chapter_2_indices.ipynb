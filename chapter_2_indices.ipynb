{
 "cells": [
  {
   "cell_type": "markdown",
   "metadata": {},
   "source": [
    "\n",
    "Chapter 2: Calculating vegetation index\n",
    "=====================================================\n",
    "\n",
    "## Objectives\n",
    "- Read Landsat image\n",
    "- Calculate NDVI\n",
    "- Display the results"
   ]
  },
  {
   "cell_type": "markdown",
   "metadata": {},
   "source": [
    "## Read Data"
   ]
  },
  {
   "cell_type": "code",
   "execution_count": null,
   "metadata": {},
   "outputs": [],
   "source": [
    "# Import the Python 3 print function\n",
    "# from __future__ import print_function\n",
    "\n",
    "# Import the \"gdal\" and \"gdal_array\" submodules from within the \"osgeo\" module\n",
    "from osgeo import gdal\n",
    "from osgeo import gdal_array\n",
    "\n",
    "# Import the NumPy module\n",
    "import numpy as np\n",
    "\n",
    "# Open a GDAL dataset\n",
    "dataset = gdal.Open('../../example/LE70220491999322EDC01_stack.gtif', gdal.GA_ReadOnly)\n",
    "\n",
    "# Allocate our array using the first band's datatype\n",
    "image_datatype = dataset.GetRasterBand(1).DataType\n",
    "\n",
    "image = np.zeros((dataset.RasterYSize, dataset.RasterXSize, dataset.RasterCount),\n",
    "                 dtype=gdal_array.GDALTypeCodeToNumericTypeCode(image_datatype))\n",
    "\n",
    "# Loop over all bands in dataset\n",
    "for b in range(dataset.RasterCount):\n",
    "    # Remember, GDAL index is on 1, but Python is on 0 -- so we add 1 for our GDAL calls\n",
    "    band = dataset.GetRasterBand(b + 1)\n",
    "    \n",
    "    # Read in the band's data into the third dimension of our array\n",
    "    image[:, :, b] = band.ReadAsArray()\n",
    "    \n",
    "\n",
    "print('Red band mean: {r}'.format(r=image[:, :, 2].mean()))\n",
    "print('NIR band mean: {nir}'.format(nir=image[:, :, 3].mean()))"
   ]
  },
  {
   "cell_type": "markdown",
   "metadata": {},
   "source": [
    "\n",
    "##  Calculate NDVI"
   ]
  },
  {
   "cell_type": "code",
   "execution_count": null,
   "metadata": {},
   "outputs": [],
   "source": [
    "b_red = 2\n",
    "b_nir = 3\n",
    "\n",
    "ndvi = (image[:, :, b_nir] - image[:, :, b_red]) / (image[:, :, b_red] + image[:, :, b_nir])\n",
    "\n",
    "print(ndvi)\n",
    "print('\\nMax NDVI: {m}'.format(m=ndvi.max()))\n",
    "print('Mean NDVI: {m}'.format(m=ndvi.mean()))\n",
    "print('Median NDVI: {m}'.format(m=np.median(ndvi)))\n",
    "print('Min NDVI: {m}'.format(m=ndvi.min()))"
   ]
  },
  {
   "cell_type": "markdown",
   "metadata": {},
   "source": [
    "## Visualise Data"
   ]
  },
  {
   "cell_type": "code",
   "execution_count": null,
   "metadata": {},
   "outputs": [],
   "source": [
    "import matplotlib.pyplot as plt\n",
    "%matplotlib inline\n",
    "\n",
    "# Extract reference to SWIR1, NIR, and Red bands\n",
    "index = np.array([4, 3, 2])\n",
    "colors = image[:, :, index].astype(np.float64)\n",
    "\n",
    "max_val = 8000\n",
    "min_val = 0\n",
    "\n",
    "# Enforce maximum and minimum values\n",
    "colors[colors[:, :, :] > max_val] = max_val\n",
    "colors[colors[:, :, :] < min_val] = min_val\n",
    "\n",
    "for b in range(colors.shape[2]):\n",
    "    colors[:, :, b] = colors[:, :, b] * 1 / (max_val - min_val)\n",
    "\n",
    "plt.subplot(121)\n",
    "plt.imshow(colors)\n",
    "\n",
    "# Show NDVI\n",
    "plt.subplot(122)\n",
    "plt.imshow(ndvi, cmap=plt.cm.Greys_r)"
   ]
  },
  {
   "cell_type": "code",
   "execution_count": null,
   "metadata": {},
   "outputs": [],
   "source": []
  }
 ],
 "metadata": {
  "kernelspec": {
   "display_name": "Python 3",
   "language": "python",
   "name": "python3"
  },
  "language_info": {
   "codemirror_mode": {
    "name": "ipython",
    "version": 3
   },
   "file_extension": ".py",
   "mimetype": "text/x-python",
   "name": "python",
   "nbconvert_exporter": "python",
   "pygments_lexer": "ipython3",
   "version": "3.7.1"
  }
 },
 "nbformat": 4,
 "nbformat_minor": 1
}
